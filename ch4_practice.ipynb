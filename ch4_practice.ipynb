{
 "cells": [
  {
   "cell_type": "code",
   "execution_count": 1,
   "metadata": {},
   "outputs": [],
   "source": [
    "import numpy as np\n",
    "import torch"
   ]
  },
  {
   "cell_type": "code",
   "execution_count": 2,
   "metadata": {},
   "outputs": [],
   "source": [
    "with open('dlwpt-code-master/p2ch11/model.py',encoding='utf8') as f:\n",
    "    text = f.read()"
   ]
  },
  {
   "cell_type": "code",
   "execution_count": 4,
   "metadata": {},
   "outputs": [
    {
     "data": {
      "text/plain": [
       "(89, '# log.setLevel(logging.WARN)')"
      ]
     },
     "execution_count": 4,
     "metadata": {},
     "output_type": "execute_result"
    }
   ],
   "source": [
    "lines = text.split('\\n')\n",
    "len(lines),lines[7]"
   ]
  },
  {
   "cell_type": "code",
   "execution_count": null,
   "metadata": {},
   "outputs": [],
   "source": [
    "# def clean_words(input_str):\n",
    "#     punctuation = '.,;:\"!?”“_-)(}{'\n",
    "#     word_list = input_str.lower().replace('\\n',' ').split()\n",
    "#     word_list = [word.strip(punctuation) for word in word_list]\n",
    "#     return word_list"
   ]
  },
  {
   "cell_type": "code",
   "execution_count": 28,
   "metadata": {},
   "outputs": [],
   "source": [
    "def clean_words(input_str):\n",
    "    # 不需要明确列出标点符号，直接使用字符串方法替换所有非字母数字的字符\n",
    "    word_list = input_str.lower().replace('\\n', ' ').split()\n",
    "    word_list = [''.join(char for char in word if char.isalnum()) for word in word_list]\n",
    "    return word_list"
   ]
  },
  {
   "cell_type": "code",
   "execution_count": 25,
   "metadata": {},
   "outputs": [],
   "source": [
    "word_list = sorted(set(clean_words(text)))"
   ]
  },
  {
   "cell_type": "code",
   "execution_count": 26,
   "metadata": {},
   "outputs": [
    {
     "data": {
      "text/plain": [
       "(['',\n",
       "  '1',\n",
       "  '2',\n",
       "  '4',\n",
       "  '8',\n",
       "  'a0',\n",
       "  'also',\n",
       "  'as',\n",
       "  'biastrue',\n",
       "  'blockout',\n",
       "  'blockoutsize0',\n",
       "  'blockoutview',\n",
       "  'bnoutput',\n",
       "  'bound',\n",
       "  'class',\n",
       "  'convchannels',\n",
       "  'convchannels8',\n",
       "  'convflat',\n",
       "  'def',\n",
       "  'fanin',\n",
       "  'fanout',\n",
       "  'for',\n",
       "  'forwardself',\n",
       "  'from',\n",
       "  'httpsgithubcompytorchpytorchissues18182',\n",
       "  'if',\n",
       "  'import',\n",
       "  'in',\n",
       "  'inchannels',\n",
       "  'inchannels1',\n",
       "  'initself',\n",
       "  'initweightsself',\n",
       "  'inputbatch',\n",
       "  'is',\n",
       "  'kernelsize3',\n",
       "  'linearoutput',\n",
       "  'log',\n",
       "  'logging',\n",
       "  'logginggetloggername',\n",
       "  'logsetlevelloggingdebug',\n",
       "  'logsetlevellogginginfo',\n",
       "  'logsetlevelloggingwarn',\n",
       "  'lunablockconvchannels',\n",
       "  'lunablockinchannels',\n",
       "  'lunablocknnmodule',\n",
       "  'lunamodelnnmodule',\n",
       "  'm',\n",
       "  'math',\n",
       "  'mathsqrtfanout',\n",
       "  'mbias',\n",
       "  'modefanout',\n",
       "  'mweightdata',\n",
       "  'nn',\n",
       "  'nnbatchnorm3d1',\n",
       "  'nnconv2d',\n",
       "  'nnconv3d',\n",
       "  'nnconvtranspose2d',\n",
       "  'nnconvtranspose3d',\n",
       "  'nninitcalculatefaninandfanoutmweightdata',\n",
       "  'nninitkaimingnormal',\n",
       "  'nninitnormalmbias',\n",
       "  'nnlinear',\n",
       "  'nnlinear1152',\n",
       "  'nnmaxpool3d2',\n",
       "  'nnreluinplacetrue',\n",
       "  'nnsoftmaxdim1',\n",
       "  'none',\n",
       "  'nonlinearityrelu',\n",
       "  'not',\n",
       "  'padding1',\n",
       "  'return',\n",
       "  'see',\n",
       "  'selfblock1',\n",
       "  'selfblock1bnoutput',\n",
       "  'selfblock2',\n",
       "  'selfblock2blockout',\n",
       "  'selfblock3',\n",
       "  'selfblock3blockout',\n",
       "  'selfblock4',\n",
       "  'selfblock4blockout',\n",
       "  'selfconv1',\n",
       "  'selfconv1inputbatch',\n",
       "  'selfconv2',\n",
       "  'selfconv2blockout',\n",
       "  'selfheadlinear',\n",
       "  'selfheadlinearconvflat',\n",
       "  'selfheadsoftmax',\n",
       "  'selfheadsoftmaxlinearoutput',\n",
       "  'selfinitweights',\n",
       "  'selfmaxpool',\n",
       "  'selfmaxpoolblockout',\n",
       "  'selfmodules',\n",
       "  'selfrelu1',\n",
       "  'selfrelu1blockout',\n",
       "  'selfrelu2',\n",
       "  'selfrelu2blockout',\n",
       "  'selftailbatchnorm',\n",
       "  'selftailbatchnorminputbatch',\n",
       "  'superinit',\n",
       "  'torch',\n",
       "  'typem',\n",
       "  'utillogconf'],\n",
       " 102)"
      ]
     },
     "execution_count": 26,
     "metadata": {},
     "output_type": "execute_result"
    }
   ],
   "source": [
    "word_list,len(word_list)"
   ]
  },
  {
   "cell_type": "code",
   "execution_count": null,
   "metadata": {},
   "outputs": [
    {
     "data": {
      "text/plain": [
       "({'': 0,\n",
       "  '1': 1,\n",
       "  '2': 2,\n",
       "  '4': 3,\n",
       "  '8': 4,\n",
       "  'a0': 5,\n",
       "  'also': 6,\n",
       "  'as': 7,\n",
       "  'biastrue': 8,\n",
       "  'blockout': 9,\n",
       "  'blockoutsize0': 10,\n",
       "  'blockoutview': 11,\n",
       "  'bnoutput': 12,\n",
       "  'bound': 13,\n",
       "  'class': 14,\n",
       "  'convchannels': 15,\n",
       "  'convchannels8': 16,\n",
       "  'convflat': 17,\n",
       "  'def': 18,\n",
       "  'fanin': 19,\n",
       "  'fanout': 20,\n",
       "  'for': 21,\n",
       "  'forwardself': 22,\n",
       "  'from': 23,\n",
       "  'httpsgithubcompytorchpytorchissues18182': 24,\n",
       "  'if': 25,\n",
       "  'import': 26,\n",
       "  'in': 27,\n",
       "  'inchannels': 28,\n",
       "  'inchannels1': 29,\n",
       "  'initself': 30,\n",
       "  'initweightsself': 31,\n",
       "  'inputbatch': 32,\n",
       "  'is': 33,\n",
       "  'kernelsize3': 34,\n",
       "  'linearoutput': 35,\n",
       "  'log': 36,\n",
       "  'logging': 37,\n",
       "  'logginggetloggername': 38,\n",
       "  'logsetlevelloggingdebug': 39,\n",
       "  'logsetlevellogginginfo': 40,\n",
       "  'logsetlevelloggingwarn': 41,\n",
       "  'lunablockconvchannels': 42,\n",
       "  'lunablockinchannels': 43,\n",
       "  'lunablocknnmodule': 44,\n",
       "  'lunamodelnnmodule': 45,\n",
       "  'm': 46,\n",
       "  'math': 47,\n",
       "  'mathsqrtfanout': 48,\n",
       "  'mbias': 49,\n",
       "  'modefanout': 50,\n",
       "  'mweightdata': 51,\n",
       "  'nn': 52,\n",
       "  'nnbatchnorm3d1': 53,\n",
       "  'nnconv2d': 54,\n",
       "  'nnconv3d': 55,\n",
       "  'nnconvtranspose2d': 56,\n",
       "  'nnconvtranspose3d': 57,\n",
       "  'nninitcalculatefaninandfanoutmweightdata': 58,\n",
       "  'nninitkaimingnormal': 59,\n",
       "  'nninitnormalmbias': 60,\n",
       "  'nnlinear': 61,\n",
       "  'nnlinear1152': 62,\n",
       "  'nnmaxpool3d2': 63,\n",
       "  'nnreluinplacetrue': 64,\n",
       "  'nnsoftmaxdim1': 65,\n",
       "  'none': 66,\n",
       "  'nonlinearityrelu': 67,\n",
       "  'not': 68,\n",
       "  'padding1': 69,\n",
       "  'return': 70,\n",
       "  'see': 71,\n",
       "  'selfblock1': 72,\n",
       "  'selfblock1bnoutput': 73,\n",
       "  'selfblock2': 74,\n",
       "  'selfblock2blockout': 75,\n",
       "  'selfblock3': 76,\n",
       "  'selfblock3blockout': 77,\n",
       "  'selfblock4': 78,\n",
       "  'selfblock4blockout': 79,\n",
       "  'selfconv1': 80,\n",
       "  'selfconv1inputbatch': 81,\n",
       "  'selfconv2': 82,\n",
       "  'selfconv2blockout': 83,\n",
       "  'selfheadlinear': 84,\n",
       "  'selfheadlinearconvflat': 85,\n",
       "  'selfheadsoftmax': 86,\n",
       "  'selfheadsoftmaxlinearoutput': 87,\n",
       "  'selfinitweights': 88,\n",
       "  'selfmaxpool': 89,\n",
       "  'selfmaxpoolblockout': 90,\n",
       "  'selfmodules': 91,\n",
       "  'selfrelu1': 92,\n",
       "  'selfrelu1blockout': 93,\n",
       "  'selfrelu2': 94,\n",
       "  'selfrelu2blockout': 95,\n",
       "  'selftailbatchnorm': 96,\n",
       "  'selftailbatchnorminputbatch': 97,\n",
       "  'superinit': 98,\n",
       "  'torch': 99,\n",
       "  'typem': 100,\n",
       "  'utillogconf': 101},\n",
       " 102)"
      ]
     },
     "execution_count": 31,
     "metadata": {},
     "output_type": "execute_result"
    }
   ],
   "source": [
    "word2index_dict = {word : i for (i , word) in enumerate(word_list)}\n",
    "word2index_dict,len(word2index_dict)\n",
    "# make a dict"
   ]
  },
  {
   "cell_type": "code",
   "execution_count": 37,
   "metadata": {},
   "outputs": [
    {
     "data": {
      "text/plain": [
       "190"
      ]
     },
     "execution_count": 37,
     "metadata": {},
     "output_type": "execute_result"
    }
   ],
   "source": [
    "text_in_words = clean_words(text)\n",
    "len(text_in_words)"
   ]
  },
  {
   "cell_type": "code",
   "execution_count": 34,
   "metadata": {},
   "outputs": [],
   "source": [
    "text_one_hot = torch.zeros(len(text_in_words),len(word_list))"
   ]
  },
  {
   "cell_type": "code",
   "execution_count": 35,
   "metadata": {},
   "outputs": [
    {
     "data": {
      "text/plain": [
       "torch.Size([190, 102])"
      ]
     },
     "execution_count": 35,
     "metadata": {},
     "output_type": "execute_result"
    }
   ],
   "source": [
    "for i, word in enumerate(text_in_words):\n",
    "    wordindex = word2index_dict[word]\n",
    "    text_one_hot[i][wordindex] = 1\n",
    "    \n",
    "text_one_hot.shape"
   ]
  },
  {
   "cell_type": "code",
   "execution_count": null,
   "metadata": {},
   "outputs": [],
   "source": []
  }
 ],
 "metadata": {
  "kernelspec": {
   "display_name": ".venv",
   "language": "python",
   "name": "python3"
  },
  "language_info": {
   "codemirror_mode": {
    "name": "ipython",
    "version": 3
   },
   "file_extension": ".py",
   "mimetype": "text/x-python",
   "name": "python",
   "nbconvert_exporter": "python",
   "pygments_lexer": "ipython3",
   "version": "3.9.6"
  }
 },
 "nbformat": 4,
 "nbformat_minor": 2
}
